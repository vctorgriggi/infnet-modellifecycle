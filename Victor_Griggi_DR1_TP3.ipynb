{
 "cells": [
  {
   "cell_type": "code",
   "execution_count": 67,
   "id": "a0e95373",
   "metadata": {},
   "outputs": [],
   "source": [
    "import pandas as pd\n",
    "import numpy as np\n",
    "import matplotlib.pyplot as plt\n",
    "import seaborn as sns\n",
    "\n",
    "from sklearn.datasets import load_breast_cancer\n",
    "from sklearn.model_selection import train_test_split, StratifiedKFold, GridSearchCV\n",
    "from sklearn.preprocessing import StandardScaler\n",
    "from sklearn.neighbors import KNeighborsClassifier\n",
    "from sklearn.linear_model import LogisticRegression\n",
    "from sklearn.metrics import accuracy_score, precision_score, recall_score, f1_score, classification_report\n",
    "\n",
    "SEED = 42"
   ]
  },
  {
   "cell_type": "code",
   "execution_count": 68,
   "id": "d5691878",
   "metadata": {},
   "outputs": [],
   "source": [
    "data = load_breast_cancer()\n",
    "X = data.data\n",
    "y = data.target\n",
    "feature_names = data.feature_names\n",
    "\n",
    "# Escalação dos dados\n",
    "scaler = StandardScaler()\n",
    "X_scaled = scaler.fit_transform(X)"
   ]
  },
  {
   "cell_type": "code",
   "execution_count": 69,
   "id": "dc79f18e",
   "metadata": {},
   "outputs": [],
   "source": [
    "# Adicionando ruído aos dados\n",
    "noise_intensity = 0.5\n",
    "noise = np.random.normal(loc=0, scale=noise_intensity, size=X_scaled.shape)\n",
    "X_noisy = X_scaled + noise"
   ]
  },
  {
   "cell_type": "code",
   "execution_count": 70,
   "id": "a69d942b",
   "metadata": {},
   "outputs": [
    {
     "name": "stdout",
     "output_type": "stream",
     "text": [
      "✅ Dados carregados, escalados e divididos com sucesso.\n"
     ]
    }
   ],
   "source": [
    "# Testes divididos em versões com e sem ruído\n",
    "X_train, X_test, y_train, y_test = train_test_split(\n",
    "    X_scaled, y, test_size=0.3, random_state=SEED, stratify=y\n",
    ")\n",
    "\n",
    "X_train_noisy, X_test_noisy, y_train_noisy, y_test_noisy = train_test_split(\n",
    "    X_noisy, y, test_size=0.3, random_state=SEED, stratify=y\n",
    ")\n",
    "\n",
    "print(\"✅ Dados carregados, escalados e divididos com sucesso.\")"
   ]
  },
  {
   "cell_type": "code",
   "execution_count": 71,
   "id": "c3dbaa55",
   "metadata": {},
   "outputs": [
    {
     "name": "stdout",
     "output_type": "stream",
     "text": [
      "🔍 Melhor valor de k encontrado: 13\n"
     ]
    }
   ],
   "source": [
    "# Definindo os valores de k\n",
    "param_grid_knn = {\n",
    "    'n_neighbors': list(range(1, 21))\n",
    "}\n",
    "\n",
    "# Instanciando o classificador KNN\n",
    "knn = KNeighborsClassifier()\n",
    "\n",
    "# Configurando a validação cruzada estratificada (5 folds)\n",
    "cv = StratifiedKFold(n_splits=5, shuffle=True, random_state=SEED)\n",
    "\n",
    "# Grid Search para encontrar o melhor valor de k\n",
    "grid_knn = GridSearchCV(knn, param_grid_knn, cv=cv, scoring='f1', n_jobs=-1)\n",
    "grid_knn.fit(X_train, y_train)\n",
    "\n",
    "melhor_knn = grid_knn.best_estimator_\n",
    "print(\"🔍 Melhor valor de k encontrado:\", grid_knn.best_params_['n_neighbors'])"
   ]
  },
  {
   "cell_type": "code",
   "execution_count": 72,
   "id": "85fd943c",
   "metadata": {},
   "outputs": [
    {
     "name": "stdout",
     "output_type": "stream",
     "text": [
      "📊 Resultados KNN (conjunto de teste):\n"
     ]
    },
    {
     "data": {
      "text/html": [
       "<div>\n",
       "<style scoped>\n",
       "    .dataframe tbody tr th:only-of-type {\n",
       "        vertical-align: middle;\n",
       "    }\n",
       "\n",
       "    .dataframe tbody tr th {\n",
       "        vertical-align: top;\n",
       "    }\n",
       "\n",
       "    .dataframe thead th {\n",
       "        text-align: right;\n",
       "    }\n",
       "</style>\n",
       "<table border=\"1\" class=\"dataframe\">\n",
       "  <thead>\n",
       "    <tr style=\"text-align: right;\">\n",
       "      <th></th>\n",
       "      <th>Modelo</th>\n",
       "      <th>Acurácia</th>\n",
       "      <th>Precisão</th>\n",
       "      <th>Recall</th>\n",
       "      <th>F1-score</th>\n",
       "    </tr>\n",
       "  </thead>\n",
       "  <tbody>\n",
       "    <tr>\n",
       "      <th>0</th>\n",
       "      <td>KNN</td>\n",
       "      <td>0.953216</td>\n",
       "      <td>0.930435</td>\n",
       "      <td>1.0</td>\n",
       "      <td>0.963964</td>\n",
       "    </tr>\n",
       "  </tbody>\n",
       "</table>\n",
       "</div>"
      ],
      "text/plain": [
       "  Modelo  Acurácia  Precisão  Recall  F1-score\n",
       "0    KNN  0.953216  0.930435     1.0  0.963964"
      ]
     },
     "metadata": {},
     "output_type": "display_data"
    }
   ],
   "source": [
    "# Previsão do modelo KNN com os dados de teste\n",
    "y_pred_knn = melhor_knn.predict(X_test)\n",
    "\n",
    "# Métricas\n",
    "acc_knn = accuracy_score(y_test, y_pred_knn)\n",
    "prec_knn = precision_score(y_test, y_pred_knn)\n",
    "rec_knn = recall_score(y_test, y_pred_knn)\n",
    "f1_knn = f1_score(y_test, y_pred_knn)\n",
    "\n",
    "resultados_knn = pd.DataFrame({\n",
    "    'Modelo': ['KNN'],\n",
    "    'Acurácia': [acc_knn],\n",
    "    'Precisão': [prec_knn],\n",
    "    'Recall': [rec_knn],\n",
    "    'F1-score': [f1_knn]\n",
    "})\n",
    "\n",
    "print(\"📊 Resultados KNN (conjunto de teste):\")\n",
    "display(resultados_knn)"
   ]
  },
  {
   "cell_type": "code",
   "execution_count": 73,
   "id": "2443ff75",
   "metadata": {},
   "outputs": [
    {
     "name": "stdout",
     "output_type": "stream",
     "text": [
      "🔍 Melhor k com ruído: 9\n",
      "📊 Resultados KNN (com ruído):\n"
     ]
    },
    {
     "data": {
      "text/html": [
       "<div>\n",
       "<style scoped>\n",
       "    .dataframe tbody tr th:only-of-type {\n",
       "        vertical-align: middle;\n",
       "    }\n",
       "\n",
       "    .dataframe tbody tr th {\n",
       "        vertical-align: top;\n",
       "    }\n",
       "\n",
       "    .dataframe thead th {\n",
       "        text-align: right;\n",
       "    }\n",
       "</style>\n",
       "<table border=\"1\" class=\"dataframe\">\n",
       "  <thead>\n",
       "    <tr style=\"text-align: right;\">\n",
       "      <th></th>\n",
       "      <th>Modelo</th>\n",
       "      <th>Acurácia</th>\n",
       "      <th>Precisão</th>\n",
       "      <th>Recall</th>\n",
       "      <th>F1-score</th>\n",
       "    </tr>\n",
       "  </thead>\n",
       "  <tbody>\n",
       "    <tr>\n",
       "      <th>0</th>\n",
       "      <td>KNN + Ruído</td>\n",
       "      <td>0.935673</td>\n",
       "      <td>0.921053</td>\n",
       "      <td>0.981308</td>\n",
       "      <td>0.950226</td>\n",
       "    </tr>\n",
       "  </tbody>\n",
       "</table>\n",
       "</div>"
      ],
      "text/plain": [
       "        Modelo  Acurácia  Precisão    Recall  F1-score\n",
       "0  KNN + Ruído  0.935673  0.921053  0.981308  0.950226"
      ]
     },
     "metadata": {},
     "output_type": "display_data"
    }
   ],
   "source": [
    "# Treinando com dados com ruído\n",
    "grid_knn_noisy = GridSearchCV(knn, param_grid_knn, cv=cv, scoring='f1', n_jobs=-1)\n",
    "grid_knn_noisy.fit(X_train_noisy, y_train_noisy)\n",
    "\n",
    "melhor_knn_noisy = grid_knn_noisy.best_estimator_\n",
    "print(\"🔍 Melhor k com ruído:\", grid_knn_noisy.best_params_['n_neighbors'])\n",
    "\n",
    "# Avaliando no conjunto de teste com ruído\n",
    "y_pred_knn_noisy = melhor_knn_noisy.predict(X_test_noisy)\n",
    "\n",
    "acc_knn_n = accuracy_score(y_test_noisy, y_pred_knn_noisy)\n",
    "prec_knn_n = precision_score(y_test_noisy, y_pred_knn_noisy)\n",
    "rec_knn_n = recall_score(y_test_noisy, y_pred_knn_noisy)\n",
    "f1_knn_n = f1_score(y_test_noisy, y_pred_knn_noisy)\n",
    "\n",
    "resultados_knn_noisy = pd.DataFrame({\n",
    "    'Modelo': ['KNN + Ruído'],\n",
    "    'Acurácia': [acc_knn_n],\n",
    "    'Precisão': [prec_knn_n],\n",
    "    'Recall': [rec_knn_n],\n",
    "    'F1-score': [f1_knn_n]\n",
    "})\n",
    "\n",
    "print(\"📊 Resultados KNN (com ruído):\")\n",
    "display(resultados_knn_noisy)"
   ]
  },
  {
   "cell_type": "code",
   "execution_count": 74,
   "id": "2829bd30",
   "metadata": {},
   "outputs": [
    {
     "name": "stdout",
     "output_type": "stream",
     "text": [
      "🔍 Melhores hiperparâmetros (LogReg): {'C': 1, 'penalty': 'l2'}\n"
     ]
    }
   ],
   "source": [
    "# Definindo o modelo base\n",
    "logreg = LogisticRegression(max_iter=5000, solver='liblinear', random_state=SEED)\n",
    "\n",
    "# Grade de hiperparâmetros (C controla a regularização)\n",
    "param_grid_logreg = {\n",
    "    'C': [0.01, 0.1, 1, 10, 100],\n",
    "    'penalty': ['l1', 'l2']\n",
    "}\n",
    "\n",
    "# Grid Search para encontrar os melhores hiperparâmetros\n",
    "grid_logreg = GridSearchCV(logreg, param_grid_logreg, cv=cv, scoring='f1', n_jobs=-1)\n",
    "grid_logreg.fit(X_train, y_train)\n",
    "\n",
    "melhor_logreg = grid_logreg.best_estimator_\n",
    "print(\"🔍 Melhores hiperparâmetros (LogReg):\", grid_logreg.best_params_)"
   ]
  },
  {
   "cell_type": "code",
   "execution_count": 75,
   "id": "c70963a2",
   "metadata": {},
   "outputs": [
    {
     "name": "stdout",
     "output_type": "stream",
     "text": [
      "📊 Resultados LogReg (conjunto de teste):\n"
     ]
    },
    {
     "data": {
      "text/html": [
       "<div>\n",
       "<style scoped>\n",
       "    .dataframe tbody tr th:only-of-type {\n",
       "        vertical-align: middle;\n",
       "    }\n",
       "\n",
       "    .dataframe tbody tr th {\n",
       "        vertical-align: top;\n",
       "    }\n",
       "\n",
       "    .dataframe thead th {\n",
       "        text-align: right;\n",
       "    }\n",
       "</style>\n",
       "<table border=\"1\" class=\"dataframe\">\n",
       "  <thead>\n",
       "    <tr style=\"text-align: right;\">\n",
       "      <th></th>\n",
       "      <th>Modelo</th>\n",
       "      <th>Acurácia</th>\n",
       "      <th>Precisão</th>\n",
       "      <th>Recall</th>\n",
       "      <th>F1-score</th>\n",
       "    </tr>\n",
       "  </thead>\n",
       "  <tbody>\n",
       "    <tr>\n",
       "      <th>0</th>\n",
       "      <td>Regressão Logística</td>\n",
       "      <td>0.982456</td>\n",
       "      <td>0.981481</td>\n",
       "      <td>0.990654</td>\n",
       "      <td>0.986047</td>\n",
       "    </tr>\n",
       "  </tbody>\n",
       "</table>\n",
       "</div>"
      ],
      "text/plain": [
       "                Modelo  Acurácia  Precisão    Recall  F1-score\n",
       "0  Regressão Logística  0.982456  0.981481  0.990654  0.986047"
      ]
     },
     "metadata": {},
     "output_type": "display_data"
    }
   ],
   "source": [
    "y_pred_logreg = melhor_logreg.predict(X_test)\n",
    "\n",
    "# Cálculo das M'tricas\n",
    "acc_log = accuracy_score(y_test, y_pred_logreg)\n",
    "prec_log = precision_score(y_test, y_pred_logreg)\n",
    "rec_log = recall_score(y_test, y_pred_logreg)\n",
    "f1_log = f1_score(y_test, y_pred_logreg)\n",
    "\n",
    "resultados_logreg = pd.DataFrame({\n",
    "    'Modelo': ['Regressão Logística'],\n",
    "    'Acurácia': [acc_log],\n",
    "    'Precisão': [prec_log],\n",
    "    'Recall': [rec_log],\n",
    "    'F1-score': [f1_log]\n",
    "})\n",
    "\n",
    "print(\"📊 Resultados LogReg (conjunto de teste):\")\n",
    "display(resultados_logreg)"
   ]
  },
  {
   "cell_type": "code",
   "execution_count": 76,
   "id": "6e2279d2",
   "metadata": {},
   "outputs": [
    {
     "name": "stdout",
     "output_type": "stream",
     "text": [
      "🔍 Melhores hiperparâmetros com ruído: {'C': 1, 'penalty': 'l2'}\n",
      "📊 Resultados LogReg (com ruído):\n"
     ]
    },
    {
     "data": {
      "text/html": [
       "<div>\n",
       "<style scoped>\n",
       "    .dataframe tbody tr th:only-of-type {\n",
       "        vertical-align: middle;\n",
       "    }\n",
       "\n",
       "    .dataframe tbody tr th {\n",
       "        vertical-align: top;\n",
       "    }\n",
       "\n",
       "    .dataframe thead th {\n",
       "        text-align: right;\n",
       "    }\n",
       "</style>\n",
       "<table border=\"1\" class=\"dataframe\">\n",
       "  <thead>\n",
       "    <tr style=\"text-align: right;\">\n",
       "      <th></th>\n",
       "      <th>Modelo</th>\n",
       "      <th>Acurácia</th>\n",
       "      <th>Precisão</th>\n",
       "      <th>Recall</th>\n",
       "      <th>F1-score</th>\n",
       "    </tr>\n",
       "  </thead>\n",
       "  <tbody>\n",
       "    <tr>\n",
       "      <th>0</th>\n",
       "      <td>Regressão Logística + Ruído</td>\n",
       "      <td>0.912281</td>\n",
       "      <td>0.925926</td>\n",
       "      <td>0.934579</td>\n",
       "      <td>0.930233</td>\n",
       "    </tr>\n",
       "  </tbody>\n",
       "</table>\n",
       "</div>"
      ],
      "text/plain": [
       "                        Modelo  Acurácia  Precisão    Recall  F1-score\n",
       "0  Regressão Logística + Ruído  0.912281  0.925926  0.934579  0.930233"
      ]
     },
     "metadata": {},
     "output_type": "display_data"
    }
   ],
   "source": [
    "# GridSearch com dados com ruído\n",
    "grid_logreg_noisy = GridSearchCV(logreg, param_grid_logreg, cv=cv, scoring='f1', n_jobs=-1)\n",
    "grid_logreg_noisy.fit(X_train_noisy, y_train_noisy)\n",
    "\n",
    "melhor_logreg_noisy = grid_logreg_noisy.best_estimator_\n",
    "print(\"🔍 Melhores hiperparâmetros com ruído:\", grid_logreg_noisy.best_params_)\n",
    "\n",
    "# Previsões no conjunto com ruído\n",
    "y_pred_logreg_noisy = melhor_logreg_noisy.predict(X_test_noisy)\n",
    "\n",
    "# Métricas\n",
    "acc_log_n = accuracy_score(y_test_noisy, y_pred_logreg_noisy)\n",
    "prec_log_n = precision_score(y_test_noisy, y_pred_logreg_noisy)\n",
    "rec_log_n = recall_score(y_test_noisy, y_pred_logreg_noisy)\n",
    "f1_log_n = f1_score(y_test_noisy, y_pred_logreg_noisy)\n",
    "\n",
    "resultados_logreg_noisy = pd.DataFrame({\n",
    "    'Modelo': ['Regressão Logística + Ruído'],\n",
    "    'Acurácia': [acc_log_n],\n",
    "    'Precisão': [prec_log_n],\n",
    "    'Recall': [rec_log_n],\n",
    "    'F1-score': [f1_log_n]\n",
    "})\n",
    "\n",
    "print(\"📊 Resultados LogReg (com ruído):\")\n",
    "display(resultados_logreg_noisy)"
   ]
  },
  {
   "cell_type": "code",
   "execution_count": 77,
   "id": "62fe67c7",
   "metadata": {},
   "outputs": [
    {
     "name": "stdout",
     "output_type": "stream",
     "text": [
      "📋 Comparação final entre todos os modelos:\n"
     ]
    },
    {
     "data": {
      "text/html": [
       "<div>\n",
       "<style scoped>\n",
       "    .dataframe tbody tr th:only-of-type {\n",
       "        vertical-align: middle;\n",
       "    }\n",
       "\n",
       "    .dataframe tbody tr th {\n",
       "        vertical-align: top;\n",
       "    }\n",
       "\n",
       "    .dataframe thead th {\n",
       "        text-align: right;\n",
       "    }\n",
       "</style>\n",
       "<table border=\"1\" class=\"dataframe\">\n",
       "  <thead>\n",
       "    <tr style=\"text-align: right;\">\n",
       "      <th></th>\n",
       "      <th>Modelo</th>\n",
       "      <th>Acurácia</th>\n",
       "      <th>Precisão</th>\n",
       "      <th>Recall</th>\n",
       "      <th>F1-score</th>\n",
       "    </tr>\n",
       "  </thead>\n",
       "  <tbody>\n",
       "    <tr>\n",
       "      <th>0</th>\n",
       "      <td>KNN</td>\n",
       "      <td>0.953216</td>\n",
       "      <td>0.930435</td>\n",
       "      <td>1.000000</td>\n",
       "      <td>0.963964</td>\n",
       "    </tr>\n",
       "    <tr>\n",
       "      <th>1</th>\n",
       "      <td>KNN + Ruído</td>\n",
       "      <td>0.935673</td>\n",
       "      <td>0.921053</td>\n",
       "      <td>0.981308</td>\n",
       "      <td>0.950226</td>\n",
       "    </tr>\n",
       "    <tr>\n",
       "      <th>2</th>\n",
       "      <td>Regressão Logística</td>\n",
       "      <td>0.982456</td>\n",
       "      <td>0.981481</td>\n",
       "      <td>0.990654</td>\n",
       "      <td>0.986047</td>\n",
       "    </tr>\n",
       "    <tr>\n",
       "      <th>3</th>\n",
       "      <td>Regressão Logística + Ruído</td>\n",
       "      <td>0.912281</td>\n",
       "      <td>0.925926</td>\n",
       "      <td>0.934579</td>\n",
       "      <td>0.930233</td>\n",
       "    </tr>\n",
       "  </tbody>\n",
       "</table>\n",
       "</div>"
      ],
      "text/plain": [
       "                        Modelo  Acurácia  Precisão    Recall  F1-score\n",
       "0                          KNN  0.953216  0.930435  1.000000  0.963964\n",
       "1                  KNN + Ruído  0.935673  0.921053  0.981308  0.950226\n",
       "2          Regressão Logística  0.982456  0.981481  0.990654  0.986047\n",
       "3  Regressão Logística + Ruído  0.912281  0.925926  0.934579  0.930233"
      ]
     },
     "metadata": {},
     "output_type": "display_data"
    },
    {
     "data": {
      "image/png": "[encoded data removed]",
      "text/plain": [
       "<Figure size 800x500 with 1 Axes>"
      ]
     },
     "metadata": {},
     "output_type": "display_data"
    }
   ],
   "source": [
    "tabela_comparativa = pd.concat([\n",
    "    resultados_knn,\n",
    "    resultados_knn_noisy,\n",
    "    resultados_logreg,\n",
    "    resultados_logreg_noisy\n",
    "], ignore_index=True)\n",
    "\n",
    "print(\"📋 Comparação final entre todos os modelos:\")\n",
    "display(tabela_comparativa)\n",
    "\n",
    "plt.figure(figsize=(8, 5))\n",
    "sns.barplot(x='Modelo', y='F1-score', data=tabela_comparativa)\n",
    "plt.title('Comparação de F1-score entre os modelos')\n",
    "plt.ylabel('F1-score')\n",
    "plt.xticks(rotation=15)\n",
    "plt.ylim(0, 1)\n",
    "plt.grid(axis='y', linestyle='--', alpha=0.3)\n",
    "plt.tight_layout()\n",
    "plt.show()"
   ]
  },
  {
   "cell_type": "markdown",
   "id": "79e70cf4",
   "metadata": {},
   "source": [
    "### 🧠 Discussão e Escolha do Modelo Final\n",
    "\n",
    "Após a análise comparativa entre os modelos, observou-se que todos apresentaram bons desempenhos, mas com diferenças relevantes, especialmente quando os dados foram perturbados com ruído. O modelo de Regressão Logística manteve resultados consistentes tanto com dados limpos quanto com ruído, se destacado em métricas cruciais como recall e F1-scor - particularmente importantes em um contexto de diagnóstico médico, onde falsos negativos podem ter consequências graves. Em contrapartida, o modelo KNN demonstrou boa performance em condições ideais, mas revelou maior sensibilidade a variações nos dados, o que pode comprometer sua robustez em aplicações reais. Além da performance técnica, a Regressão Logística oferece maior interpretabilidade e escalabilidade, facilitando sua adoção em ambientes clínicos. Diante desses fatores - desempenho superior nas métricas mais relevantes, estabilidade frente a ruído e maior clareza na tomada de decisão -, concluímos que a Regressão Logística representa a melhor escolha para este caso de diagnóstico automatizado de câncer de mama."
   ]
  }
 ],
 "metadata": {
  "kernelspec": {
   "display_name": ".venv",
   "language": "python",
   "name": "python3"
  },
  "language_info": {
   "codemirror_mode": {
    "name": "ipython",
    "version": 3
   },
   "file_extension": ".py",
   "mimetype": "text/x-python",
   "name": "python",
   "nbconvert_exporter": "python",
   "pygments_lexer": "ipython3",
   "version": "3.9.6"
  }
 },
 "nbformat": 4,
 "nbformat_minor": 5
}
